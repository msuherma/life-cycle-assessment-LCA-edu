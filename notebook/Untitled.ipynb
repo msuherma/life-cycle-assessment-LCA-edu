{
 "cells": [
  {
   "cell_type": "markdown",
   "id": "available-rescue",
   "metadata": {},
   "source": [
    "# Chapter 3\n",
    "# The refined model for inventory analysis\n",
    "\n",
    "## 3.1 Cut-off\n",
    "Cut-off refers to the case of incomplete systems, or formulated differently,\n",
    "to the case of systems with incomplete knowledge on product flows between\n",
    "processes. One may, for instance, know that production of electricity not\n",
    "only requires fuel, but that capital equipment, like a generator, is involved\n",
    "as well. But it may happen that one cannot find data on the production of\n",
    "new generators for replacement, or for the disposal of used generators.\n",
    "Problems in data acquisition appear in almost every LCA. Most guidebooks provide criteria to decide when cut-off is permissible: for which processes, depending on the decision-context and on the product under investigation. This book will not provide or discuss such guidelines. The emphasis\n",
    "is on how cut-off is implemented in the matrix formalism of Chapter 2. As\n",
    "far as we are aware, this aspect of cut-off has been discussed only by Heijungs (1997, p.93-95). Another approach is to avoid the need for cut-off by estimating missing process data, for instance with input-output analysis; see Section 5.4."
   ]
  },
  {
   "cell_type": "markdown",
   "id": "essential-spelling",
   "metadata": {},
   "source": [
    "## 3.1.1 Formulation of the problem"
   ]
  },
  {
   "cell_type": "code",
   "execution_count": null,
   "id": "classical-vacation",
   "metadata": {},
   "outputs": [],
   "source": []
  }
 ],
 "metadata": {
  "kernelspec": {
   "display_name": "Python 3",
   "language": "python",
   "name": "python3"
  },
  "language_info": {
   "codemirror_mode": {
    "name": "ipython",
    "version": 3
   },
   "file_extension": ".py",
   "mimetype": "text/x-python",
   "name": "python",
   "nbconvert_exporter": "python",
   "pygments_lexer": "ipython3",
   "version": "3.9.1"
  }
 },
 "nbformat": 4,
 "nbformat_minor": 5
}
