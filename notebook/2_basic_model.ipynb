{
 "cells": [
  {
   "cell_type": "markdown",
   "id": "disabled-chile",
   "metadata": {},
   "source": [
    "# Chapter 2\n",
    "# The basic model for inventory analysis"
   ]
  },
  {
   "cell_type": "code",
   "execution_count": 1,
   "id": "optical-contact",
   "metadata": {},
   "outputs": [],
   "source": [
    "import numpy as np"
   ]
  },
  {
   "cell_type": "code",
   "execution_count": 5,
   "id": "increasing-alignment",
   "metadata": {},
   "outputs": [
    {
     "data": {
      "text/plain": [
       "[[-2, 100], [10, 0]]"
      ]
     },
     "execution_count": 5,
     "metadata": {},
     "output_type": "execute_result"
    }
   ],
   "source": [
    "A = [[-2,100],[10,0]]\n",
    "A"
   ]
  },
  {
   "cell_type": "code",
   "execution_count": 6,
   "id": "outside-bottom",
   "metadata": {},
   "outputs": [
    {
     "data": {
      "text/plain": [
       "array([[0.   , 0.1  ],\n",
       "       [0.01 , 0.002]])"
      ]
     },
     "execution_count": 6,
     "metadata": {},
     "output_type": "execute_result"
    }
   ],
   "source": [
    "Ainv = np.linalg.inv(A)\n",
    "Ainv"
   ]
  },
  {
   "cell_type": "code",
   "execution_count": 7,
   "id": "through-prize",
   "metadata": {},
   "outputs": [
    {
     "data": {
      "text/plain": [
       "[[0], [1000]]"
      ]
     },
     "execution_count": 7,
     "metadata": {},
     "output_type": "execute_result"
    }
   ],
   "source": [
    "f = [[0],[1000]]\n",
    "f"
   ]
  },
  {
   "cell_type": "code",
   "execution_count": 9,
   "id": "listed-flesh",
   "metadata": {},
   "outputs": [
    {
     "data": {
      "text/plain": [
       "array([[100.],\n",
       "       [  2.]])"
      ]
     },
     "execution_count": 9,
     "metadata": {},
     "output_type": "execute_result"
    }
   ],
   "source": [
    "s = np.matmul(Ainv,f)\n",
    "s"
   ]
  },
  {
   "cell_type": "code",
   "execution_count": 12,
   "id": "painted-virginia",
   "metadata": {},
   "outputs": [
    {
     "data": {
      "text/plain": [
       "[[1, 10], [0.1, 2], [0, -50]]"
      ]
     },
     "execution_count": 12,
     "metadata": {},
     "output_type": "execute_result"
    }
   ],
   "source": [
    "B = [[1,10],[0.1,2],[0,-50]]\n",
    "B"
   ]
  },
  {
   "cell_type": "code",
   "execution_count": 15,
   "id": "aerial-relevance",
   "metadata": {},
   "outputs": [
    {
     "data": {
      "text/plain": [
       "array([[ 120.],\n",
       "       [  14.],\n",
       "       [-100.]])"
      ]
     },
     "execution_count": 15,
     "metadata": {},
     "output_type": "execute_result"
    }
   ],
   "source": [
    "g = np.matmul(B,s)\n",
    "g"
   ]
  },
  {
   "cell_type": "markdown",
   "id": "median-humanitarian",
   "metadata": {},
   "source": [
    "$$g = BA^{-1}f$$\n",
    "$$g = (BA^{-1})f$$\n",
    "which is written as:\n",
    "$$g = \\Lambda f$$\n",
    "it is defined the intensity matrix $\\Lambda$ as:\n",
    "$$\\Lambda = BA^{-1}$$"
   ]
  },
  {
   "cell_type": "code",
   "execution_count": 17,
   "id": "single-twenty",
   "metadata": {},
   "outputs": [
    {
     "data": {
      "text/plain": [
       "array([[ 0.1  ,  0.12 ],\n",
       "       [ 0.02 ,  0.014],\n",
       "       [-0.5  , -0.1  ]])"
      ]
     },
     "execution_count": 17,
     "metadata": {},
     "output_type": "execute_result"
    }
   ],
   "source": [
    "Lambda = np.matmul(B, Ainv)\n",
    "Lambda"
   ]
  },
  {
   "cell_type": "markdown",
   "id": "upper-radio",
   "metadata": {},
   "source": [
    "This $\\Lambda$ can then be used to appy for different $f$, such as $f1$, $f2$, $f3$,$f4$"
   ]
  },
  {
   "cell_type": "code",
   "execution_count": 22,
   "id": "noble-precipitation",
   "metadata": {},
   "outputs": [
    {
     "name": "stdout",
     "output_type": "stream",
     "text": [
      "The result of g1 is: [[ 120.]\n",
      " [  14.]\n",
      " [-100.]]\n",
      "The result of g1 is: [[ 0.12 ]\n",
      " [ 0.014]\n",
      " [-0.1  ]]\n",
      "The result of g1 is: [[ 1. ]\n",
      " [ 0.2]\n",
      " [-5. ]]\n",
      "The result of g1 is: [[ 121. ]\n",
      " [  14.2]\n",
      " [-105. ]]\n",
      "The result of g1 is: [[-1. ]\n",
      " [-0.2]\n",
      " [ 5. ]]\n"
     ]
    }
   ],
   "source": [
    "f1 = [[0],[1000]]\n",
    "f2 = [[0],[1]]\n",
    "f3 = [[10],[0]]\n",
    "f4 = [[10],[1000]]\n",
    "f5 = [[-10],[0]]\n",
    "\n",
    "g1 = np.matmul(Lambda,f1)\n",
    "g2 = np.matmul(Lambda,f2)\n",
    "g3 = np.matmul(Lambda,f3)\n",
    "g4 = np.matmul(Lambda,f4)\n",
    "g5 = np.matmul(Lambda,f5)\n",
    "\n",
    "print(f'The result of g1 is: {g1}')\n",
    "print(f'The result of g1 is: {g2}')\n",
    "print(f'The result of g1 is: {g3}')\n",
    "print(f'The result of g1 is: {g4}')\n",
    "print(f'The result of g1 is: {g5}')"
   ]
  },
  {
   "cell_type": "markdown",
   "id": "polished-pricing",
   "metadata": {},
   "source": [
    "## 2.7 An interpretation of the intensity matrix\n",
    "$A$ denote that the system contains one process which produces 10 kWh of\n",
    "electricity. Let us assume that the intervention matrix is $B$"
   ]
  },
  {
   "cell_type": "code",
   "execution_count": 30,
   "id": "distinguished-group",
   "metadata": {},
   "outputs": [],
   "source": [
    "A = [10]\n",
    "B = [[1],[0.1],[0]]\n",
    "Ainv = [0.1]"
   ]
  },
  {
   "cell_type": "code",
   "execution_count": 31,
   "id": "italian-disclaimer",
   "metadata": {},
   "outputs": [
    {
     "data": {
      "text/plain": [
       "array([0.1 , 0.01, 0.  ])"
      ]
     },
     "execution_count": 31,
     "metadata": {},
     "output_type": "execute_result"
    }
   ],
   "source": [
    "Lambda = np.matmul(B,Ainv)\n",
    "Lambda"
   ]
  },
  {
   "cell_type": "code",
   "execution_count": 34,
   "id": "induced-enough",
   "metadata": {},
   "outputs": [
    {
     "ename": "ValueError",
     "evalue": "matmul: Input operand 1 has a mismatch in its core dimension 0, with gufunc signature (n?,k),(k,m?)->(n?,m?) (size 1 is different from 3)",
     "output_type": "error",
     "traceback": [
      "\u001b[1;31m---------------------------------------------------------------------------\u001b[0m",
      "\u001b[1;31mValueError\u001b[0m                                Traceback (most recent call last)",
      "\u001b[1;32m<ipython-input-34-75b6c6c24eff>\u001b[0m in \u001b[0;36m<module>\u001b[1;34m\u001b[0m\n\u001b[0;32m      1\u001b[0m \u001b[0mf\u001b[0m \u001b[1;33m=\u001b[0m \u001b[1;33m[\u001b[0m\u001b[1;36m1\u001b[0m\u001b[1;33m]\u001b[0m\u001b[1;33m\u001b[0m\u001b[1;33m\u001b[0m\u001b[0m\n\u001b[1;32m----> 2\u001b[1;33m \u001b[0mg\u001b[0m \u001b[1;33m=\u001b[0m \u001b[0mnp\u001b[0m\u001b[1;33m.\u001b[0m\u001b[0mmatmul\u001b[0m\u001b[1;33m(\u001b[0m\u001b[0mLambda\u001b[0m\u001b[1;33m,\u001b[0m\u001b[0mf\u001b[0m\u001b[1;33m)\u001b[0m\u001b[1;33m\u001b[0m\u001b[1;33m\u001b[0m\u001b[0m\n\u001b[0m",
      "\u001b[1;31mValueError\u001b[0m: matmul: Input operand 1 has a mismatch in its core dimension 0, with gufunc signature (n?,k),(k,m?)->(n?,m?) (size 1 is different from 3)"
     ]
    }
   ],
   "source": [
    "f = [1]\n",
    "g = np.matmul(Lambda,f)"
   ]
  },
  {
   "cell_type": "code",
   "execution_count": 37,
   "id": "turkish-deployment",
   "metadata": {},
   "outputs": [],
   "source": [
    "A = [[-2,100],[10,0]]\n",
    "B = [[1,10],[0.1,2],[0,-50]]\n",
    "Ainv = np.linalg.inv(A)\n",
    "f = [[0],[1]]"
   ]
  },
  {
   "cell_type": "code",
   "execution_count": 40,
   "id": "intensive-clothing",
   "metadata": {},
   "outputs": [
    {
     "data": {
      "text/plain": [
       "array([[ 0.12 ],\n",
       "       [ 0.014],\n",
       "       [-0.1  ]])"
      ]
     },
     "execution_count": 40,
     "metadata": {},
     "output_type": "execute_result"
    }
   ],
   "source": [
    "Lambda = np.matmul(B,Ainv)\n",
    "g = np.matmul(Lambda,f)\n",
    "g"
   ]
  },
  {
   "cell_type": "code",
   "execution_count": null,
   "id": "muslim-teddy",
   "metadata": {},
   "outputs": [],
   "source": []
  }
 ],
 "metadata": {
  "kernelspec": {
   "display_name": "Python 3",
   "language": "python",
   "name": "python3"
  },
  "language_info": {
   "codemirror_mode": {
    "name": "ipython",
    "version": 3
   },
   "file_extension": ".py",
   "mimetype": "text/x-python",
   "name": "python",
   "nbconvert_exporter": "python",
   "pygments_lexer": "ipython3",
   "version": "3.9.1"
  }
 },
 "nbformat": 4,
 "nbformat_minor": 5
}
