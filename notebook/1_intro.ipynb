{
 "cells": [
  {
   "cell_type": "code",
   "execution_count": 1,
   "id": "facial-monroe",
   "metadata": {},
   "outputs": [
    {
     "data": {
      "text/markdown": [
       "The math is not centered: $$x$$"
      ]
     },
     "metadata": {},
     "output_type": "display_data"
    }
   ],
   "source": [
    "from IPython import display\n",
    "display.display_markdown(\"The math is not centered: $$x$$\", raw=True)"
   ]
  },
  {
   "cell_type": "markdown",
   "id": "radical-collection",
   "metadata": {},
   "source": [
    "# Introduction to Computational Structure of LCA\n",
    "\n",
    "The basis of equation for the computational for LCA is: $$s = A^{-1}f$$\n",
    "in which $f$ is the final demand vector, $A$ is the technology matrix (and\n",
    "$A^{-l}$ its inverse), and $s$ is the scaling vector; \n",
    "\n",
    "\n",
    "## 1.2 Elements of LCA\n",
    "\n",
    "The general ISO 14040 standard (ISO, 1997, p.2) defines LCA as the \"compilation and evaluation of the inputs, outputs and the environmental impacts of a product system throughout its life cycle.\" The LCA technique is structured along a framework with a number of steps or activities in each\n",
    "of these steps. There are four phases:<br>\n",
    "* goal and scope definition;<br>\n",
    "* inventory analysis;<br>\n",
    "* impact assessment;<br>\n",
    "* interpretation.<br>"
   ]
  },
  {
   "cell_type": "code",
   "execution_count": null,
   "id": "worth-vinyl",
   "metadata": {},
   "outputs": [],
   "source": []
  },
  {
   "cell_type": "code",
   "execution_count": null,
   "id": "earlier-aruba",
   "metadata": {},
   "outputs": [],
   "source": []
  },
  {
   "cell_type": "code",
   "execution_count": null,
   "id": "wound-movie",
   "metadata": {},
   "outputs": [],
   "source": []
  },
  {
   "cell_type": "code",
   "execution_count": null,
   "id": "involved-driver",
   "metadata": {},
   "outputs": [],
   "source": []
  },
  {
   "cell_type": "code",
   "execution_count": null,
   "id": "comfortable-schema",
   "metadata": {},
   "outputs": [],
   "source": []
  }
 ],
 "metadata": {
  "kernelspec": {
   "display_name": "Python 3",
   "language": "python",
   "name": "python3"
  },
  "language_info": {
   "codemirror_mode": {
    "name": "ipython",
    "version": 3
   },
   "file_extension": ".py",
   "mimetype": "text/x-python",
   "name": "python",
   "nbconvert_exporter": "python",
   "pygments_lexer": "ipython3",
   "version": "3.9.1"
  }
 },
 "nbformat": 4,
 "nbformat_minor": 5
}
